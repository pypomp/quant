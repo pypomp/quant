{
 "cells": [
  {
   "cell_type": "code",
   "execution_count": 1,
   "id": "5f5f141c-8e6d-493d-9365-6d8ff3a1fc7e",
   "metadata": {},
   "outputs": [],
   "source": [
    "import os\n",
    "#os.environ['XLA_PYTHON_CLIENT_PREALLOCATE']='false'\n",
    "\n",
    "import jax\n",
    "import itertools\n",
    "import matplotlib.cm as cm\n",
    "import numpy as np\n",
    "# Prevent ptitprince from raising cmap errors\n",
    "cm.register_cmap = lambda *args, **kwargs: None\n",
    "import ptitprince as pt\n",
    "\n",
    "import jax.numpy as jnp\n",
    "import pypomp as pp\n",
    "import ipywidgets as widgets\n",
    "import pandas as pd\n",
    "\n",
    "from jax import jit, grad\n",
    "from functools import partial\n",
    "\n",
    "from tqdm.notebook import tqdm\n",
    "\n",
    "\n",
    "import matplotlib.pyplot as plt\n",
    "plt.style.use('matplotlibrc')\n",
    "np.set_printoptions(suppress=True)"
   ]
  },
  {
   "cell_type": "code",
   "execution_count": 2,
   "id": "c59c9de6-62df-48d1-aa94-04ad1c99e8b9",
   "metadata": {},
   "outputs": [
    {
     "name": "stdout",
     "output_type": "stream",
     "text": [
      "rproc is now gamma\n"
     ]
    }
   ],
   "source": [
    "MAIN_SEED = 631409\n",
    "key = jax.random.key(MAIN_SEED)\n",
    "np.random.seed(MAIN_SEED)\n",
    "\n",
    "\n",
    "dacca_obj = pp.dacca(gamma=True)\n",
    "key, subkey = jax.random.split(key)\n",
    "dacca_obj.pfilter(J=10000, reps=1, key=subkey)"
   ]
  },
  {
   "cell_type": "code",
   "execution_count": 3,
   "id": "850dd348-f42f-4394-b06a-6c39cf67da03",
   "metadata": {},
   "outputs": [
    {
     "data": {
      "text/html": [
       "<div>\n",
       "<style scoped>\n",
       "    .dataframe tbody tr th:only-of-type {\n",
       "        vertical-align: middle;\n",
       "    }\n",
       "\n",
       "    .dataframe tbody tr th {\n",
       "        vertical-align: top;\n",
       "    }\n",
       "\n",
       "    .dataframe thead th {\n",
       "        text-align: right;\n",
       "    }\n",
       "</style>\n",
       "<table border=\"1\" class=\"dataframe\">\n",
       "  <thead>\n",
       "    <tr style=\"text-align: right;\">\n",
       "      <th></th>\n",
       "      <th>logLik</th>\n",
       "      <th>se</th>\n",
       "      <th>gamma</th>\n",
       "      <th>m</th>\n",
       "      <th>rho</th>\n",
       "      <th>epsilon</th>\n",
       "      <th>omega</th>\n",
       "      <th>c</th>\n",
       "      <th>beta_trend</th>\n",
       "      <th>sigma</th>\n",
       "      <th>...</th>\n",
       "      <th>b3</th>\n",
       "      <th>b4</th>\n",
       "      <th>b5</th>\n",
       "      <th>b6</th>\n",
       "      <th>omega1</th>\n",
       "      <th>omega2</th>\n",
       "      <th>omega3</th>\n",
       "      <th>omega4</th>\n",
       "      <th>omega5</th>\n",
       "      <th>omega6</th>\n",
       "    </tr>\n",
       "  </thead>\n",
       "  <tbody>\n",
       "    <tr>\n",
       "      <th>0</th>\n",
       "      <td>-4743.013184</td>\n",
       "      <td>NaN</td>\n",
       "      <td>3.034953</td>\n",
       "      <td>-2.813411</td>\n",
       "      <td>-inf</td>\n",
       "      <td>2.949688</td>\n",
       "      <td>-4.5</td>\n",
       "      <td>inf</td>\n",
       "      <td>-0.498</td>\n",
       "      <td>1.141033</td>\n",
       "      <td>...</td>\n",
       "      <td>-3.44</td>\n",
       "      <td>4.23</td>\n",
       "      <td>3.33</td>\n",
       "      <td>4.55</td>\n",
       "      <td>-1.69282</td>\n",
       "      <td>-2.543384</td>\n",
       "      <td>-2.840439</td>\n",
       "      <td>-4.691818</td>\n",
       "      <td>-8.477972</td>\n",
       "      <td>-4.390059</td>\n",
       "    </tr>\n",
       "  </tbody>\n",
       "</table>\n",
       "<p>1 rows × 23 columns</p>\n",
       "</div>"
      ],
      "text/plain": [
       "        logLik  se     gamma         m  rho   epsilon  omega    c  beta_trend  \\\n",
       "0 -4743.013184 NaN  3.034953 -2.813411 -inf  2.949688   -4.5  inf      -0.498   \n",
       "\n",
       "      sigma  ...    b3    b4    b5    b6   omega1    omega2    omega3  \\\n",
       "0  1.141033  ... -3.44  4.23  3.33  4.55 -1.69282 -2.543384 -2.840439   \n",
       "\n",
       "     omega4    omega5    omega6  \n",
       "0 -4.691818 -8.477972 -4.390059  \n",
       "\n",
       "[1 rows x 23 columns]"
      ]
     },
     "execution_count": 3,
     "metadata": {},
     "output_type": "execute_result"
    }
   ],
   "source": [
    "dacca_obj.results()"
   ]
  }
 ],
 "metadata": {
  "kernelspec": {
   "display_name": "Python (313)",
   "language": "python",
   "name": "313"
  },
  "language_info": {
   "codemirror_mode": {
    "name": "ipython",
    "version": 3
   },
   "file_extension": ".py",
   "mimetype": "text/x-python",
   "name": "python",
   "nbconvert_exporter": "python",
   "pygments_lexer": "ipython3",
   "version": "3.13.5"
  }
 },
 "nbformat": 4,
 "nbformat_minor": 5
}
